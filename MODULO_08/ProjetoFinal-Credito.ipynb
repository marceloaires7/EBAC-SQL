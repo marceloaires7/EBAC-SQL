{
 "cells": [
  {
   "cell_type": "markdown",
   "metadata": {},
   "source": [
    "![EBAC](https://github.com/marceloaires7/EBAC-SQL/blob/main/MODULO_08/images/ebac_logo-data_science.png?raw=true)\n",
    "\n",
    "# **Projeto Final do Curso de SQL da EBAC**\n",
    "### **Exploração e análise de dados de crédito com SQL**\n",
    "\n",
    "**Aluno:** [Marcelo Aires ![LinkedIn](https://github.com/marceloaires7/EBAC-SQL/blob/main/MODULO_08/images/linkedin.png?raw=true)](https://www.linkedin.com/in/marceloaco/)\n",
    "\n",
    "---"
   ]
  },
  {
   "cell_type": "markdown",
   "metadata": {},
   "source": [
    "## Dados do Dataset: \n",
    "\n",
    "Os dados representam informações de clientes de um banco e contam com as seguintes colunas: \n",
    "\n",
    "| *Coluna*                  | *Explicação*                                            |\n",
    "|---------------------------|---------------------------------------------------------|\n",
    "| **idade**                 | idade do cliente                                        |\n",
    "| **sexo**                  | sexo do cliente (F ou M)                                |\n",
    "| **dependentes**           | número de dependentes do cliente                        |\n",
    "| **escolaridade**          | nível de escolaridade do cliente                        |\n",
    "| **salario_anual**         | faixa salarial do cliente                               |\n",
    "| **tipo_cartao**           | tipo de cartão do cliente                               |\n",
    "| **qtd_produtos**          | quantidade de produtos comprados nos últimos 12 meses   |\n",
    "| **iteracoes_12m**         | quantidade de iterações/transações nos últimos 12 meses |\n",
    "| **meses_inativo_12m**     | quantidade de meses que o cliente ficou inativo         |\n",
    "| **limite_credito**        | limite de crédito do cliente                            |\n",
    "| **valor_transacoes_12m**  | valor das transações dos últimos 12 meses               |\n",
    "| **qtd_transacoes_12m**    | quantidade de transações dos últimos 12 meses           |\n",
    "\n",
    "\n",
    "A tabela foi criada no **AWS Athena** junto com o **S3 Bucket**, a própria EBAC disponibilizou o arquivo CSV.\n",
    "\n",
    "---"
   ]
  },
  {
   "cell_type": "markdown",
   "metadata": {
    "vscode": {
     "languageId": "plaintext"
    }
   },
   "source": [
    "## **Criação da Tabela no AWS Athena:**\n",
    "\n",
    "Após criar o bucket no AWS S3 e carregar o CSV disponibilizado pela EBAC, podemos criar a Tabela no AWS Athena vinculado com o bucket que iremos utilizar neste projeto.\n",
    "\n",
    "Para criarmos a tabela utilizamos este comando:\n",
    "\n",
    "#### CREATE TABLE:\n",
    "\n",
    "```sql\n",
    "CREATE EXTERNAL TABLE IF NOT EXISTS default.credito (\n",
    "\t`idade` int,\n",
    "\t`sexo` string,\n",
    "\t`dependentes` int,\n",
    "\t`escolaridade` string,\n",
    "\t`estado_civil` string,\n",
    "\t`salario_anual` string,\n",
    "\t`tipo_cartao` string,\n",
    "\t`qtd_produtos` bigint,\n",
    "\t`iteracoes_12m` int,\n",
    "\t`meses_inativo_12m` int,\n",
    "\t`limite_credito` float,\n",
    "\t`valor_transacoes_12m` float,\n",
    "\t`qtd_transacoes_12m` int\n",
    ")\n",
    "ROW FORMAT SERDE 'org.apache.hadoop.hive.serde2.lazy.LazySimpleSerDe'\n",
    "WITH SERDEPROPERTIES (\n",
    "\t'serialization.format' = ',',\n",
    "\t'field.delim' = ','\n",
    ")\n",
    "LOCATION 's3://credito-projetofinal-marceloaco/'\n",
    "TBLPROPERTIES ('has_encrypted_data' = 'false');\n",
    "```\n",
    "![Query1](https://github.com/marceloaires7/EBAC-SQL/blob/main/MODULO_08/images/Criar-Tabela.png?raw=true)\n",
    "\n",
    "---"
   ]
  },
  {
   "cell_type": "markdown",
   "metadata": {},
   "source": [
    "## **Análise Exploratória de Dados (EDA):**\n",
    "\n",
    "Após a criação da tabela no *AWS*, podemos analisar o conjunto de dados pelo *Athena*.\n",
    "\n",
    "#### **Número de Linhas:**\n",
    "```sql\n",
    "SELECT COUNT(*) AS total_linhas\n",
    "FROM credito;\n",
    "```\n",
    "![totalLinhas](https://github.com/marceloaires7/EBAC-SQL/blob/main/MODULO_08/images/totalLinhas.png?raw=true)\n",
    "\n",
    "#### **Número de Colunas:**\n",
    "```sql\n",
    "SELECT COUNT(*) AS total_colunas\n",
    "FROM INFORMATION_SCHEMA.COLUMNS\n",
    "WHERE TABLE_NAME = 'credito';\n",
    "```\n",
    "![totalColunas](https://github.com/marceloaires7/EBAC-SQL/blob/main/MODULO_08/images/totalColunas.png?raw=true)\n",
    "\n",
    "---"
   ]
  },
  {
   "cell_type": "markdown",
   "metadata": {},
   "source": [
    "#### **Tipos de cada coluna:**\n",
    "```C#\n",
    "DESCRIBE credito;\n",
    "```\n",
    "| Coluna               | Tipo   |\n",
    "| -------------------- | ------ |\n",
    "| idade                | int    |\n",
    "| sexo                 | string |\n",
    "| dependentes          | int    |\n",
    "| escolaridade         | string |\n",
    "| estado_civil         | string |\n",
    "| salario_anual        | string |\n",
    "| tipo_cartao          | string |\n",
    "| qtd_produtos         | bigint |\n",
    "| iteracoes_12m        | int    |\n",
    "| meses_inativo_12m    | int    |\n",
    "| limite_credito       | float  |\n",
    "| valor_transacoes_12m | float  |\n",
    "| qtd_transacoes_12m   | int    |\n",
    "\n",
    "---"
   ]
  },
  {
   "cell_type": "markdown",
   "metadata": {},
   "source": [
    "#### QUERY 1:\n",
    "\n",
    "```sql\n",
    "SELECT * FROM credito LIMIT 10;\n",
    "```\n",
    "![Limite10](https://github.com/marceloaires7/EBAC-SQL/blob/main/MODULO_08/images/credito_lim10.png?raw=true)\n",
    "\n",
    "> Primeira visualização da Tabela (10 primeiras linhas), já percebemos alguns valores nulos.\n",
    "\n",
    "---"
   ]
  },
  {
   "cell_type": "markdown",
   "metadata": {},
   "source": [
    "#### QUERY 2:\n",
    "\n",
    "```sql\n",
    "SELECT idade,                COUNT(idade)                AS Quantidade FROM credito GROUP BY idade;\n",
    "SELECT sexo,                 COUNT(sexo)                 AS Quantidade FROM credito GROUP BY sexo;\n",
    "SELECT dependentes,          COUNT(dependentes)          AS Quantidade FROM credito GROUP BY dependentes;\n",
    "SELECT escolaridade,         COUNT(escolaridade)         AS Quantidade FROM credito GROUP BY escolaridade;\n",
    "SELECT estado_civil,         COUNT(estado_civil)         AS Quantidade FROM credito GROUP BY estado_civil;\n",
    "SELECT salario_anual,        COUNT(salario_anual)        AS Quantidade FROM credito GROUP BY salario_anual;\n",
    "SELECT tipo_cartao,          COUNT(tipo_cartao)          AS Quantidade FROM credito GROUP BY tipo_cartao;\n",
    "SELECT qtd_produtos,         COUNT(qtd_produtos)         AS Quantidade FROM credito GROUP BY qtd_produtos;\n",
    "SELECT iteracoes_12m,        COUNT(iteracoes_12m)        AS Quantidade FROM credito GROUP BY iteracoes_12m;\n",
    "SELECT meses_inativo_12m,    COUNT(meses_inativo_12m)    AS Quantidade FROM credito GROUP BY meses_inativo_12m;\n",
    "SELECT limite_credito,       COUNT(limite_credito)       AS Quantidade FROM credito GROUP BY limite_credito;\n",
    "SELECT valor_transacoes_12m, COUNT(valor_transacoes_12m) AS Quantidade FROM credito GROUP BY valor_transacoes_12m;\n",
    "SELECT qtd_transacoes_12m,   COUNT(qtd_transacoes_12m)   AS Quantidade FROM credito GROUP BY qtd_transacoes_12m;\n",
    "```\n",
    "![escolaridadeNA](https://github.com/marceloaires7/EBAC-SQL/blob/main/MODULO_08/images/escolaridadeNA.png?raw=true)\n",
    "![estadoCivilNA](https://github.com/marceloaires7/EBAC-SQL/blob/main/MODULO_08/images/estadoCivilNA.png?raw=true)\n",
    "![salarioAnualNA](https://github.com/marceloaires7/EBAC-SQL/blob/main/MODULO_08/images/salarioAnualNA.png?raw=true)\n",
    "![sexoQuant](https://github.com/marceloaires7/EBAC-SQL/blob/main/MODULO_08/images/sexoQuant.png?raw=true)\n",
    "![tiposCartaoQuant](https://github.com/marceloaires7/EBAC-SQL/blob/main/MODULO_08/images/tiposCartaoQuant.png?raw=true)\n",
    "\n",
    "> Analisando cada uma das colunas, percebemos aonde estão os valores nulos, como mostra nas figuras acima.\n",
    "\n",
    "> Percebemos que na coluna 'sexo' contem mais Homens do que Mulheres. \n",
    "\n",
    "> E na coluna 'tipo_cartao' verificamos que existem 4 tipos de cartões, sendo o cartão blue mais comum entre eles.\n",
    "---"
   ]
  },
  {
   "cell_type": "markdown",
   "metadata": {},
   "source": [
    "## **Análise de Dados:**\n",
    "\n",
    "Após a criação da tabela no *AWS*, podemos analisar o conjunto de dados pelo *Athena*.\n",
    "\n",
    "#### **Número de Linhas:**\n",
    "```sql\n",
    "SELECT COUNT(*) AS total_linhas\n",
    "FROM credito;\n",
    "```\n",
    "![totalLinhas](https://github.com/marceloaires7/EBAC-SQL/blob/main/MODULO_08/images/totalLinhas.png?raw=true)\n",
    "\n",
    "#### **Número de Colunas:**\n",
    "```sql\n",
    "SELECT COUNT(*) AS total_colunas\n",
    "FROM INFORMATION_SCHEMA.COLUMNS\n",
    "WHERE TABLE_NAME = 'credito';\n",
    "```\n",
    "![totalColunas](https://github.com/marceloaires7/EBAC-SQL/blob/main/MODULO_08/images/totalColunas.png?raw=true)\n",
    "\n",
    "---"
   ]
  }
 ],
 "metadata": {
  "language_info": {
   "name": "python"
  }
 },
 "nbformat": 4,
 "nbformat_minor": 2
}
